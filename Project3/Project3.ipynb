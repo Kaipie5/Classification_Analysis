{
 "cells": [
  {
   "cell_type": "code",
   "execution_count": 175,
   "metadata": {},
   "outputs": [],
   "source": [
    "import numpy as np\n",
    "import pandas as pd\n",
    "from PIL import Image\n",
    "from matplotlib.pyplot import imshow\n",
    "import os\n",
    "\n",
    "# to make this notebook's output stable across runs\n",
    "np.random.seed(42)\n",
    "\n",
    "# To plot pretty figures\n",
    "%matplotlib inline\n",
    "import matplotlib as mpl\n",
    "import matplotlib.pyplot as plt\n",
    "mpl.rc('axes', labelsize=14)\n",
    "mpl.rc('xtick', labelsize=12)\n",
    "mpl.rc('ytick', labelsize=12)"
   ]
  },
  {
   "cell_type": "code",
   "execution_count": 176,
   "metadata": {},
   "outputs": [
    {
     "name": "stdout",
     "output_type": "stream",
     "text": [
      "                      App Translated_Review Sentiment  Sentiment_Polarity  \\\n",
      "30  10 Best Foods for You           Good.!!  Positive                 1.0   \n",
      "\n",
      "    Sentiment_Subjectivity  \n",
      "30                     0.6  \n",
      "/////////////////////////////////\n",
      "                               App        Category  Rating Reviews  Size  \\\n",
      "30  Pink Silver Bow Keyboard Theme  ART_AND_DESIGN     4.2    1120  9.2M   \n",
      "\n",
      "    Installs  Type Price Content Rating        Genres   Last Updated  \\\n",
      "30  100,000+  Free     0       Everyone  Art & Design  July 12, 2018   \n",
      "\n",
      "    Current Ver   Android Ver  \n",
      "30  6.7.12.2018  4.0.3 and up  \n",
      "/////////\n",
      "                                           App Category  Rating Reviews  \\\n",
      "10472  Life Made WI-Fi Touchscreen Photo Frame      1.9    19.0    3.0M   \n",
      "\n",
      "         Size Installs Type     Price Content Rating             Genres  \\\n",
      "10472  1,000+     Free    0  Everyone            NaN  February 11, 2018   \n",
      "\n",
      "      Last Updated Current Ver Android Ver  \n",
      "10472       1.0.19  4.0 and up         NaN  \n"
     ]
    }
   ],
   "source": [
    "import pandas as pd\n",
    "basePath = \"/Users/kaimcconnell/Whitman Spring 2019/Machine Learning/Project3/Data/google-play-store-apps\"\n",
    "userReviewsPath = basePath + \"/googleplaystore_user_reviews.csv\"\n",
    "appDataPath = basePath + \"/googleplaystore.csv\"\n",
    "userData = pd.read_csv(userReviewsPath)\n",
    "appData = pd.read_csv(appDataPath)\n",
    "#What does the data in these two csvs look like?\n",
    "print(userData[30:31])\n",
    "print(\"/////////////////////////////////\")\n",
    "print(appData[30:31])\n",
    "print(\"/////////\")\n",
    "\n",
    "#Removing data row with bogus data\n",
    "print(appData[10472:10473])\n",
    "appData = appData.drop([10472], axis=0)"
   ]
  },
  {
   "cell_type": "code",
   "execution_count": 177,
   "metadata": {},
   "outputs": [
    {
     "name": "stdout",
     "output_type": "stream",
     "text": [
      "64295\n",
      "10840\n"
     ]
    }
   ],
   "source": [
    "#How large is each dataset?\n",
    "print(len(userData))\n",
    "print(len(appData))"
   ]
  },
  {
   "cell_type": "code",
   "execution_count": 178,
   "metadata": {},
   "outputs": [
    {
     "name": "stdout",
     "output_type": "stream",
     "text": [
      "USER DATA FEATURES\n",
      "//////////////////////////\n",
      "STORE DATA FEATURES\n"
     ]
    },
    {
     "data": {
      "text/plain": [
       "['App',\n",
       " 'Category',\n",
       " 'Rating',\n",
       " 'Reviews',\n",
       " 'Size',\n",
       " 'Installs',\n",
       " 'Type',\n",
       " 'Price',\n",
       " 'Content Rating',\n",
       " 'Genres',\n",
       " 'Last Updated',\n",
       " 'Current Ver',\n",
       " 'Android Ver']"
      ]
     },
     "execution_count": 178,
     "metadata": {},
     "output_type": "execute_result"
    }
   ],
   "source": [
    "#What features exist in these data sets?\n",
    "print(\"USER DATA FEATURES\")\n",
    "list(userData)\n",
    "print(\"//////////////////////////\")\n",
    "print(\"STORE DATA FEATURES\")\n",
    "list(appData)"
   ]
  },
  {
   "cell_type": "code",
   "execution_count": 179,
   "metadata": {},
   "outputs": [
    {
     "name": "stdout",
     "output_type": "stream",
     "text": [
      "[('FAMILY', 1972), ('GAME', 1144), ('TOOLS', 843), ('MEDICAL', 463), ('BUSINESS', 460), ('PRODUCTIVITY', 424), ('PERSONALIZATION', 392), ('COMMUNICATION', 387), ('SPORTS', 384), ('LIFESTYLE', 382), ('FINANCE', 366), ('HEALTH_AND_FITNESS', 341), ('PHOTOGRAPHY', 335), ('SOCIAL', 295), ('NEWS_AND_MAGAZINES', 283), ('SHOPPING', 260), ('TRAVEL_AND_LOCAL', 258), ('DATING', 234), ('BOOKS_AND_REFERENCE', 231), ('VIDEO_PLAYERS', 175), ('EDUCATION', 156), ('ENTERTAINMENT', 149), ('MAPS_AND_NAVIGATION', 137), ('FOOD_AND_DRINK', 127), ('HOUSE_AND_HOME', 88), ('AUTO_AND_VEHICLES', 85), ('LIBRARIES_AND_DEMO', 85), ('WEATHER', 82), ('ART_AND_DESIGN', 65), ('EVENTS', 64), ('COMICS', 60), ('PARENTING', 60), ('BEAUTY', 53)]\n"
     ]
    }
   ],
   "source": [
    "#How many apps of each category?\n",
    "categoryList = []\n",
    "for category in appData.Category:\n",
    "    if \";\" in category:\n",
    "        subCategories = category.split(\";\")\n",
    "        for subCategory in subCategories:\n",
    "            categoryList.append(subCategory)\n",
    "    else:\n",
    "        categoryList.append(category)\n",
    "import collections\n",
    "counter = collections.Counter(categoryList)\n",
    "#print(counter.keys())\n",
    "#print(counter.values())\n",
    "print(counter.most_common(len(counter.keys())))"
   ]
  },
  {
   "cell_type": "code",
   "execution_count": 197,
   "metadata": {},
   "outputs": [
    {
     "data": {
      "image/png": "[encoded data removed]",
      "text/plain": [
       "<Figure size 432x288 with 1 Axes>"
      ]
     },
     "metadata": {
      "needs_background": "light"
     },
     "output_type": "display_data"
    }
   ],
   "source": [
    "#Distribution of ratings?\n",
    "import math\n",
    "ratingList = []\n",
    "for rating in appData.Rating:\n",
    "    if math.isnan(rating):\n",
    "        ratingList.append(0.0)\n",
    "    else:\n",
    "        ratingList.append(rating)\n",
    "#print(ratingList)\n",
    "plt.xlim(right=5)\n",
    "binList = []\n",
    "p = 0.0\n",
    "for i in range(0,26):\n",
    "    binList.append(p)\n",
    "    p = p + 0.2\n",
    "plt.hist(ratingList, bins=binList)\n",
    "#appData.Rating.hist(bins=20)\n",
    "#FIX RATING DATA BY REPLACING nan with 0\n",
    "def removeNAN(rating):\n",
    "    if math.isnan(rating):\n",
    "        return 0.0\n",
    "    else:\n",
    "        return rating\n",
    "\n",
    "appData.Rating = appData['Rating'].apply(removeNAN)"
   ]
  },
  {
   "cell_type": "code",
   "execution_count": 182,
   "metadata": {},
   "outputs": [
    {
     "name": "stdout",
     "output_type": "stream",
     "text": [
      "MIN VALUE:\n",
      "0\n",
      "MAX VALUE:\n",
      "1000000000\n",
      "AVERAGE VALUE:\n",
      "15464338.882564576\n"
     ]
    },
    {
     "data": {
      "text/plain": [
       "(array([10301.,   409.,     0.,     0.,     0.,    72.,     0.,     0.,\n",
       "            0.,    58.]),\n",
       " array([0.e+00, 1.e+08, 2.e+08, 3.e+08, 4.e+08, 5.e+08, 6.e+08, 7.e+08,\n",
       "        8.e+08, 9.e+08, 1.e+09]),\n",
       " <a list of 10 Patch objects>)"
      ]
     },
     "execution_count": 182,
     "metadata": {},
     "output_type": "execute_result"
    },
    {
     "data": {
      "image/png": "[encoded data removed]",
      "text/plain": [
       "<Figure size 432x288 with 1 Axes>"
      ]
     },
     "metadata": {
      "needs_background": "light"
     },
     "output_type": "display_data"
    }
   ],
   "source": [
    "#FIX UP INSTALL DATA\n",
    "appData['Installs'] = appData['Installs'].apply(lambda x: x.replace('+', '') if '+' in str(x) else x)\n",
    "appData['Installs'] = appData['Installs'].apply(lambda x: x.replace(',', '') if ',' in str(x) else x)\n",
    "appData['Installs'] = appData['Installs'].apply(lambda x: int(x))\n",
    "#Distribution of number of installs?\n",
    "installList = []\n",
    "alternateInstall = []\n",
    "for install in appData.Installs: \n",
    "    installList.append(install)\n",
    "# print(min(installList))\n",
    "# print(max(installList))\n",
    "minValue = min(installList)\n",
    "maxValue = max(installList)\n",
    "print(\"MIN VALUE:\")\n",
    "print(minValue)\n",
    "print(\"MAX VALUE:\")\n",
    "print(maxValue)\n",
    "print(\"AVERAGE VALUE:\")\n",
    "print(sum(installList) / len(installList))\n",
    "# rangeValue = (maxValue - minValue)\n",
    "# print(rangeValue)\n",
    "# ticks = rangeValue/10\n",
    "# print(minValue)\n",
    "# plt.xticks(np.arange(10), (minValue, \n",
    "#                            minValue + ticks,\n",
    "#                            minValue + 2*ticks,\n",
    "#                            minValue + 3*ticks,\n",
    "#                            minValue + 4*ticks,\n",
    "#                            minValue + 5*ticks,\n",
    "#                            minValue + 6*ticks,\n",
    "#                            minValue + 7*ticks,\n",
    "#                            minValue + 8*ticks,\n",
    "#                            minValue + 9*ticks,\n",
    "#                            appData.Installs.max()))\n",
    "plt.hist(installList)\n",
    "# appData.Installs.hist()\n"
   ]
  },
  {
   "cell_type": "code",
   "execution_count": 220,
   "metadata": {},
   "outputs": [
    {
     "data": {
      "text/plain": [
       "(array([8.714e+03, 0.000e+00, 4.990e+02, 0.000e+00, 1.208e+03, 0.000e+00,\n",
       "        4.140e+02, 0.000e+00, 3.000e+00, 2.000e+00]),\n",
       " array([0. , 0.5, 1. , 1.5, 2. , 2.5, 3. , 3.5, 4. , 4.5, 5. ]),\n",
       " <a list of 10 Patch objects>)"
      ]
     },
     "execution_count": 220,
     "metadata": {},
     "output_type": "execute_result"
    },
    {
     "data": {
      "image/png": "[encoded data removed]",
      "text/plain": [
       "<Figure size 1152x720 with 1 Axes>"
      ]
     },
     "metadata": {
      "needs_background": "light"
     },
     "output_type": "display_data"
    }
   ],
   "source": [
    "#Distribution of content rating?\n",
    "contentRatingList = []\n",
    "for contentRating in appData[\"Content Rating\"]:\n",
    "    contentRatingList.append(contentRating)\n",
    "plt.figure(figsize=(16,10))\n",
    "plt.hist(contentRatingList)"
   ]
  },
  {
   "cell_type": "code",
   "execution_count": 184,
   "metadata": {},
   "outputs": [
    {
     "name": "stdout",
     "output_type": "stream",
     "text": [
      "14.99\n",
      "AVERAGE COST:\n",
      "$ 1.027368081180801\n"
     ]
    },
    {
     "data": {
      "image/png": "[encoded data removed]",
      "text/plain": [
       "<Figure size 1440x360 with 1 Axes>"
      ]
     },
     "metadata": {
      "needs_background": "light"
     },
     "output_type": "display_data"
    }
   ],
   "source": [
    "#Distribution of price?\n",
    "easyCostList = []\n",
    "hardCostList = []\n",
    "expensiveList = []\n",
    "for cost in appData.Price:\n",
    "    costFixed = cost.replace(\"$\", \"\")\n",
    "    #Remove data making it hard to visualize and free ones\n",
    "    if float(costFixed) < 15 and float(costFixed) > 0:\n",
    "        easyCostList.append(float(costFixed))\n",
    "    hardCostList.append(float(costFixed))\n",
    "print(max(costList))\n",
    "plt.figure(figsize=(20,5))\n",
    "plt.hist(easyCostList, bins=50)\n",
    "print(\"AVERAGE COST:\")\n",
    "print(\"$\", sum(hardCostList) / len(hardCostList))\n",
    "#FIX COST BY REMOVING $\n",
    "appData['Price'] = appData['Price'].apply(lambda x: x.replace('$', '') if '$' in str(x) else x)"
   ]
  },
  {
   "cell_type": "code",
   "execution_count": 185,
   "metadata": {},
   "outputs": [
    {
     "data": {
      "text/plain": [
       "(array([1.0815e+04, 4.0000e+00, 2.0000e+00, 1.0000e+00, 0.0000e+00,\n",
       "        1.0000e+00, 0.0000e+00, 1.0000e+00, 0.0000e+00, 1.6000e+01]),\n",
       " array([  0.,  40.,  80., 120., 160., 200., 240., 280., 320., 360., 400.]),\n",
       " <a list of 10 Patch objects>)"
      ]
     },
     "execution_count": 185,
     "metadata": {},
     "output_type": "execute_result"
    },
    {
     "data": {
      "image/png": "[encoded data removed]",
      "text/plain": [
       "<Figure size 432x288 with 1 Axes>"
      ]
     },
     "metadata": {
      "needs_background": "light"
     },
     "output_type": "display_data"
    }
   ],
   "source": [
    "#Alternative histogram for cost\n",
    "plt.hist(hardCostList)"
   ]
  },
  {
   "cell_type": "code",
   "execution_count": 186,
   "metadata": {},
   "outputs": [],
   "source": [
    "#SHUFFLE APP DATA for randomization\n",
    "appData = appData.sample(frac=1)"
   ]
  },
  {
   "cell_type": "code",
   "execution_count": 191,
   "metadata": {},
   "outputs": [
    {
     "name": "stdout",
     "output_type": "stream",
     "text": [
      "Index(['App', 'Category', 'Rating', 'Reviews', 'Size', 'Installs', 'Type',\n",
      "       'Price', 'Content Rating', 'Genres', 'Last Updated', 'Current Ver',\n",
      "       'Android Ver'],\n",
      "      dtype='object')\n",
      "Index(['Category', 'Rating', 'Reviews', 'Price', 'Content Rating', 'Genres'], dtype='object')\n",
      "Installs\n"
     ]
    }
   ],
   "source": [
    "from sklearn import cross_validation\n",
    "indices = [1,2,3,7,8,9]\n",
    "# for i in range(2,68):\n",
    "#     if i != 60:\n",
    "#         indices.append(i)\n",
    "print(appData.columns)\n",
    "#Installs is 5th column and is target value\n",
    "print(appData.columns[indices])\n",
    "print(appData.columns[5])"
   ]
  },
  {
   "cell_type": "code",
   "execution_count": 192,
   "metadata": {},
   "outputs": [
    {
     "name": "stdout",
     "output_type": "stream",
     "text": [
      "['Installs']\n",
      "['Reviews']\n",
      "crossvalidation on Data set\n"
     ]
    },
    {
     "name": "stderr",
     "output_type": "stream",
     "text": [
      "/anaconda3/lib/python3.7/site-packages/ipykernel_launcher.py:13: DataConversionWarning: A column-vector y was passed when a 1d array was expected. Please change the shape of y to (n_samples,), for example using ravel().\n",
      "  del sys.path[0]\n"
     ]
    },
    {
     "name": "stdout",
     "output_type": "stream",
     "text": [
      "Acurracy:  0.4986162361623616\n"
     ]
    }
   ],
   "source": [
    "from sklearn.ensemble import RandomForestClassifier\n",
    "# features = list(appData.columns[indices])\n",
    "# Relationship Reviews to Installs\n",
    "features = list(appData.columns[[3]])\n",
    "target = list(appData.columns[[5]])\n",
    "print(target)\n",
    "print(features)\n",
    "\n",
    "x_train, x_test, y_train, y_test = cross_validation.train_test_split(appData[features], appData[target], test_size=0.2, random_state=0)\n",
    "\n",
    "print(\"crossvalidation on Data set\")\n",
    "rf = RandomForestClassifier(n_estimators=100,n_jobs=-1)\n",
    "clf_rf = rf.fit(x_train,y_train)\n",
    "score_rf=clf_rf.score(x_test, y_test)\n",
    "print(\"Acurracy: \", score_rf)"
   ]
  },
  {
   "cell_type": "code",
   "execution_count": 193,
   "metadata": {},
   "outputs": [
    {
     "name": "stdout",
     "output_type": "stream",
     "text": [
      "['Installs']\n",
      "['Price']\n",
      "crossvalidation on Data set\n"
     ]
    },
    {
     "name": "stderr",
     "output_type": "stream",
     "text": [
      "/anaconda3/lib/python3.7/site-packages/ipykernel_launcher.py:11: DataConversionWarning: A column-vector y was passed when a 1d array was expected. Please change the shape of y to (n_samples,), for example using ravel().\n",
      "  # This is added back by InteractiveShellApp.init_path()\n"
     ]
    },
    {
     "name": "stdout",
     "output_type": "stream",
     "text": [
      "Acurracy:  0.16605166051660517\n"
     ]
    }
   ],
   "source": [
    "#Relationship Price to Installs\n",
    "features = list(appData.columns[[7]])\n",
    "target = list(appData.columns[[5]])\n",
    "print(target)\n",
    "print(features)\n",
    "\n",
    "x_train, x_test, y_train, y_test = cross_validation.train_test_split(appData[features], appData[target], test_size=0.2, random_state=0)\n",
    "\n",
    "print(\"crossvalidation on Data set\")\n",
    "rf = RandomForestClassifier(n_estimators=100,n_jobs=-1)\n",
    "clf_rf = rf.fit(x_train,y_train)\n",
    "score_rf=clf_rf.score(x_test, y_test)\n",
    "print(\"Acurracy: \", score_rf)"
   ]
  },
  {
   "cell_type": "code",
   "execution_count": 195,
   "metadata": {},
   "outputs": [
    {
     "name": "stdout",
     "output_type": "stream",
     "text": [
      "['Installs']\n",
      "['Rating']\n",
      "crossvalidation on Data set\n"
     ]
    },
    {
     "name": "stderr",
     "output_type": "stream",
     "text": [
      "/anaconda3/lib/python3.7/site-packages/ipykernel_launcher.py:11: DataConversionWarning: A column-vector y was passed when a 1d array was expected. Please change the shape of y to (n_samples,), for example using ravel().\n",
      "  # This is added back by InteractiveShellApp.init_path()\n"
     ]
    },
    {
     "name": "stdout",
     "output_type": "stream",
     "text": [
      "Acurracy:  0.19280442804428044\n"
     ]
    }
   ],
   "source": [
    "#Relationship of Rating to Installs\n",
    "features = list(appData.columns[[2]])\n",
    "target = list(appData.columns[[5]])\n",
    "print(target)\n",
    "print(features)\n",
    "\n",
    "x_train, x_test, y_train, y_test = cross_validation.train_test_split(appData[features], appData[target], test_size=0.2, random_state=0)\n",
    "\n",
    "print(\"crossvalidation on Data set\")\n",
    "rf = RandomForestClassifier(n_estimators=100,n_jobs=-1)\n",
    "clf_rf = rf.fit(x_train,y_train)\n",
    "score_rf=clf_rf.score(x_test, y_test)\n",
    "print(\"Acurracy: \", score_rf)"
   ]
  },
  {
   "cell_type": "code",
   "execution_count": 221,
   "metadata": {},
   "outputs": [
    {
     "name": "stdout",
     "output_type": "stream",
     "text": [
      "['Installs']\n",
      "['Rating', 'Reviews', 'Price']\n",
      "crossvalidation on Data set\n"
     ]
    },
    {
     "name": "stderr",
     "output_type": "stream",
     "text": [
      "/anaconda3/lib/python3.7/site-packages/ipykernel_launcher.py:11: DataConversionWarning: A column-vector y was passed when a 1d array was expected. Please change the shape of y to (n_samples,), for example using ravel().\n",
      "  # This is added back by InteractiveShellApp.init_path()\n"
     ]
    },
    {
     "name": "stdout",
     "output_type": "stream",
     "text": [
      "Acurracy:  0.5322878228782287\n"
     ]
    }
   ],
   "source": [
    "#Relationship Reiews, Price and Rating to Installs\n",
    "features = list(appData.columns[[2,3,7]])\n",
    "target = list(appData.columns[[5]])\n",
    "print(target)\n",
    "print(features)\n",
    "\n",
    "x_train, x_test, y_train, y_test = cross_validation.train_test_split(appData[features], appData[target], test_size=0.2, random_state=0)\n",
    "\n",
    "print(\"crossvalidation on Data set\")\n",
    "rf = RandomForestClassifier(n_estimators=100,n_jobs=-1)\n",
    "clf_rf = rf.fit(x_train,y_train)\n",
    "score_rf=clf_rf.score(x_test, y_test)\n",
    "print(\"Acurracy: \", score_rf)"
   ]
  },
  {
   "cell_type": "code",
   "execution_count": 227,
   "metadata": {},
   "outputs": [
    {
     "name": "stdout",
     "output_type": "stream",
     "text": [
      "Index(['App', 'Category', 'Rating', 'Reviews', 'Size', 'Installs', 'Type',\n",
      "       'Price', 'Content Rating', 'Genres', 'Last Updated', 'Current Ver',\n",
      "       'Android Ver', 'InstallBoolean'],\n",
      "      dtype='object')\n"
     ]
    }
   ],
   "source": [
    "#Adding new column with install boolean based on if it is greater or less than the average install numbers\n",
    "installBooleanList = []\n",
    "averageInstall = sum(installList) / len(installList)\n",
    "for val in appData[\"Installs\"]:\n",
    "    if val > averageInstall:\n",
    "        installBooleanList.append(1)\n",
    "    else:\n",
    "        installBooleanList.append(0)\n",
    "appData[\"InstallBoolean\"] = installBooleanList\n",
    "print(appData.columns)"
   ]
  },
  {
   "cell_type": "code",
   "execution_count": 228,
   "metadata": {},
   "outputs": [
    {
     "name": "stdout",
     "output_type": "stream",
     "text": [
      "['InstallBoolean']\n",
      "['Rating']\n",
      "crossvalidation on Data set\n"
     ]
    },
    {
     "name": "stderr",
     "output_type": "stream",
     "text": [
      "/anaconda3/lib/python3.7/site-packages/ipykernel_launcher.py:11: DataConversionWarning: A column-vector y was passed when a 1d array was expected. Please change the shape of y to (n_samples,), for example using ravel().\n",
      "  # This is added back by InteractiveShellApp.init_path()\n"
     ]
    },
    {
     "name": "stdout",
     "output_type": "stream",
     "text": [
      "Acurracy:  0.9169741697416974\n"
     ]
    }
   ],
   "source": [
    "#Relationship of Rating to Installs\n",
    "features = list(appData.columns[[2]])\n",
    "target = list(appData.columns[[13]])\n",
    "print(target)\n",
    "print(features)\n",
    "\n",
    "x_train, x_test, y_train, y_test = cross_validation.train_test_split(appData[features], appData[target], test_size=0.2, random_state=0)\n",
    "\n",
    "print(\"crossvalidation on Data set\")\n",
    "rf = RandomForestClassifier(n_estimators=100,n_jobs=-1)\n",
    "clf_rf = rf.fit(x_train,y_train)\n",
    "score_rf=clf_rf.score(x_test, y_test)\n",
    "print(\"Acurracy: \", score_rf)"
   ]
  },
  {
   "cell_type": "code",
   "execution_count": 229,
   "metadata": {},
   "outputs": [
    {
     "name": "stdout",
     "output_type": "stream",
     "text": [
      "['InstallBoolean']\n",
      "['Price']\n",
      "crossvalidation on Data set\n"
     ]
    },
    {
     "name": "stderr",
     "output_type": "stream",
     "text": [
      "/anaconda3/lib/python3.7/site-packages/ipykernel_launcher.py:11: DataConversionWarning: A column-vector y was passed when a 1d array was expected. Please change the shape of y to (n_samples,), for example using ravel().\n",
      "  # This is added back by InteractiveShellApp.init_path()\n"
     ]
    },
    {
     "name": "stdout",
     "output_type": "stream",
     "text": [
      "Acurracy:  0.9169741697416974\n"
     ]
    }
   ],
   "source": [
    "#Relationship Price to Installs\n",
    "features = list(appData.columns[[7]])\n",
    "target = list(appData.columns[[13]])\n",
    "print(target)\n",
    "print(features)\n",
    "\n",
    "x_train, x_test, y_train, y_test = cross_validation.train_test_split(appData[features], appData[target], test_size=0.2, random_state=0)\n",
    "\n",
    "print(\"crossvalidation on Data set\")\n",
    "rf = RandomForestClassifier(n_estimators=100,n_jobs=-1)\n",
    "clf_rf = rf.fit(x_train,y_train)\n",
    "score_rf=clf_rf.score(x_test, y_test)\n",
    "print(\"Acurracy: \", score_rf)"
   ]
  },
  {
   "cell_type": "code",
   "execution_count": 230,
   "metadata": {},
   "outputs": [
    {
     "name": "stdout",
     "output_type": "stream",
     "text": [
      "['InstallBoolean']\n",
      "['Reviews']\n",
      "crossvalidation on Data set\n"
     ]
    },
    {
     "name": "stderr",
     "output_type": "stream",
     "text": [
      "/anaconda3/lib/python3.7/site-packages/ipykernel_launcher.py:13: DataConversionWarning: A column-vector y was passed when a 1d array was expected. Please change the shape of y to (n_samples,), for example using ravel().\n",
      "  del sys.path[0]\n"
     ]
    },
    {
     "name": "stdout",
     "output_type": "stream",
     "text": [
      "Acurracy:  0.9829335793357934\n"
     ]
    }
   ],
   "source": [
    "from sklearn.ensemble import RandomForestClassifier\n",
    "# features = list(appData.columns[indices])\n",
    "# Relationship Reviews to Installs\n",
    "features = list(appData.columns[[3]])\n",
    "target = list(appData.columns[[13]])\n",
    "print(target)\n",
    "print(features)\n",
    "\n",
    "x_train, x_test, y_train, y_test = cross_validation.train_test_split(appData[features], appData[target], test_size=0.2, random_state=0)\n",
    "\n",
    "print(\"crossvalidation on Data set\")\n",
    "rf = RandomForestClassifier(n_estimators=100,n_jobs=-1)\n",
    "clf_rf = rf.fit(x_train,y_train)\n",
    "score_rf=clf_rf.score(x_test, y_test)\n",
    "print(\"Acurracy: \", score_rf)"
   ]
  },
  {
   "cell_type": "code",
   "execution_count": 231,
   "metadata": {},
   "outputs": [
    {
     "name": "stdout",
     "output_type": "stream",
     "text": [
      "['InstallBoolean']\n",
      "['Rating', 'Reviews', 'Price']\n",
      "crossvalidation on Data set\n"
     ]
    },
    {
     "name": "stderr",
     "output_type": "stream",
     "text": [
      "/anaconda3/lib/python3.7/site-packages/ipykernel_launcher.py:11: DataConversionWarning: A column-vector y was passed when a 1d array was expected. Please change the shape of y to (n_samples,), for example using ravel().\n",
      "  # This is added back by InteractiveShellApp.init_path()\n"
     ]
    },
    {
     "name": "stdout",
     "output_type": "stream",
     "text": [
      "Acurracy:  0.9838560885608856\n"
     ]
    }
   ],
   "source": [
    "#Relationship Reiews, Price and Rating to Installs\n",
    "features = list(appData.columns[[2,3,7]]) \n",
    "target = list(appData.columns[[13]]) \n",
    "print(target) \n",
    "print(features)\n",
    "\n",
    "x_train, x_test, y_train, y_test = cross_validation.train_test_split(appData[features], appData[target], test_size=0.2, random_state=0)\n",
    "\n",
    "print(\"crossvalidation on Data set\") \n",
    "rf = RandomForestClassifier(n_estimators=100,n_jobs=-1) \n",
    "clf_rf = rf.fit(x_train,y_train) \n",
    "score_rf=clf_rf.score(x_test, y_test) \n",
    "print(\"Acurracy: \", score_rf)"
   ]
  },
  {
   "cell_type": "code",
   "execution_count": null,
   "metadata": {},
   "outputs": [],
   "source": [
    "#Optional Other TODO: \n",
    "#TYPE IS FREE OR PAID TURN INTO 0 OR 1\n",
    "#CONVERT SIZE INTO NUMBER \n",
    "#MAYBE CONVERT CONTENT RATING TO AN INTEGER\n",
    "#make new column that changes installs into 0 or 1"
   ]
  },
  {
   "cell_type": "code",
   "execution_count": 214,
   "metadata": {},
   "outputs": [
    {
     "name": "stderr",
     "output_type": "stream",
     "text": [
      "/anaconda3/lib/python3.7/site-packages/sklearn/model_selection/_validation.py:753: DataConversionWarning: A column-vector y was passed when a 1d array was expected. Please change the shape of y to (n_samples,), for example using ravel().\n",
      "  estimator.fit(X_train, y_train, **fit_params)\n",
      "/anaconda3/lib/python3.7/site-packages/sklearn/model_selection/_validation.py:753: DataConversionWarning: A column-vector y was passed when a 1d array was expected. Please change the shape of y to (n_samples,), for example using ravel().\n",
      "  estimator.fit(X_train, y_train, **fit_params)\n",
      "/anaconda3/lib/python3.7/site-packages/sklearn/model_selection/_validation.py:753: DataConversionWarning: A column-vector y was passed when a 1d array was expected. Please change the shape of y to (n_samples,), for example using ravel().\n",
      "  estimator.fit(X_train, y_train, **fit_params)\n"
     ]
    },
    {
     "name": "stdout",
     "output_type": "stream",
     "text": [
      "[[  3   3   0   6   1   0   0   0   0   0   0   0   0   0   0   0   0   0\n",
      "    0   0]\n",
      " [  2   2   1  42   0   5   0   0   0   0   0   0   0   0   0   0   0   0\n",
      "    0   0]\n",
      " [  1   2   0  48   1  17   0   1   0   0   0   0   0   0   0   0   0   0\n",
      "    0   0]\n",
      " [  1  10   2 205   5  83   3   7   0   0   0   0   0   0   0   0   0   0\n",
      "    0   0]\n",
      " [  1   3   1  59   4  72   4  12   0   0   0   0   0   0   0   0   0   0\n",
      "    0   0]\n",
      " [  1   1   4 117  14 311  35  84  10   4   0   0   0   0   0   0   0   0\n",
      "    0   0]\n",
      " [  0   0   0  21   4 106  24 101   7   8   0   0   0   0   0   0   0   0\n",
      "    0   0]\n",
      " [  0   0   1  15   3 130  69 362  91  52   4   2   0   0   0   0   0   0\n",
      "    0   0]\n",
      " [  0   0   0   2   0  11   8 115  94 131   9   2   0   0   0   1   0   0\n",
      "    0   0]\n",
      " [  0   0   0   3   0   5   3  75 104 472  87  88   9   0   0   1   0   0\n",
      "    0   0]\n",
      " [  0   0   0   2   0   1   0   7   4 103 105 142  15   1   0   0   0   0\n",
      "    0   0]\n",
      " [  0   0   0   1   0   0   1   1   3  88 133 525 109  70   3   1   0   0\n",
      "    0   0]\n",
      " [  0   0   0   0   0   0   0   0   0   6  14 113 134 143   4   5   0   1\n",
      "    0   0]\n",
      " [  0   0   0   0   0   1   0   0   0   1   4  91 126 776 162  81   2   4\n",
      "    0   0]\n",
      " [  0   0   0   0   0   0   0   0   0   0   0   7  12 159 291 152   3   3\n",
      "    0   0]\n",
      " [  0   0   0   0   0   0   0   0   1   0   0   2   3  84 133 708  48  26\n",
      "    1   0]\n",
      " [  0   0   0   0   0   0   0   0   0   0   0   0   0   6   4  66 113  40\n",
      "    0   1]\n",
      " [  0   0   0   0   0   0   0   0   0   0   0   0   0   3   3  18  33 247\n",
      "    5   4]\n",
      " [  0   0   0   0   0   0   0   0   0   0   0   0   0   0   0   1   2  17\n",
      "   40   0]\n",
      " [  0   0   0   0   0   0   0   0   0   0   0   0   0   0   0   0   0   4\n",
      "    0  41]]\n"
     ]
    }
   ],
   "source": [
    "#Confusion Matrix\n",
    "from sklearn.model_selection import cross_val_predict\n",
    "\n",
    "y_train_pred = cross_val_predict(clf_rf, x_train, y_train, cv=3)\n",
    "\n",
    "from sklearn.metrics import confusion_matrix\n",
    "\n",
    "confusion_matrix(y_train, y_train_pred)"
   ]
  },
  {
   "cell_type": "code",
   "execution_count": 216,
   "metadata": {},
   "outputs": [
    {
     "name": "stdout",
     "output_type": "stream",
     "text": [
      "[[  13    0    0    0    0    0    0    0    0    0    0    0    0    0\n",
      "     0    0    0    0    0    0]\n",
      " [   0   52    0    0    0    0    0    0    0    0    0    0    0    0\n",
      "     0    0    0    0    0    0]\n",
      " [   0    0   70    0    0    0    0    0    0    0    0    0    0    0\n",
      "     0    0    0    0    0    0]\n",
      " [   0    0    0  316    0    0    0    0    0    0    0    0    0    0\n",
      "     0    0    0    0    0    0]\n",
      " [   0    0    0    0  156    0    0    0    0    0    0    0    0    0\n",
      "     0    0    0    0    0    0]\n",
      " [   0    0    0    0    0  581    0    0    0    0    0    0    0    0\n",
      "     0    0    0    0    0    0]\n",
      " [   0    0    0    0    0    0  271    0    0    0    0    0    0    0\n",
      "     0    0    0    0    0    0]\n",
      " [   0    0    0    0    0    0    0  729    0    0    0    0    0    0\n",
      "     0    0    0    0    0    0]\n",
      " [   0    0    0    0    0    0    0    0  373    0    0    0    0    0\n",
      "     0    0    0    0    0    0]\n",
      " [   0    0    0    0    0    0    0    0    0  847    0    0    0    0\n",
      "     0    0    0    0    0    0]\n",
      " [   0    0    0    0    0    0    0    0    0    0  380    0    0    0\n",
      "     0    0    0    0    0    0]\n",
      " [   0    0    0    0    0    0    0    0    0    0    0  935    0    0\n",
      "     0    0    0    0    0    0]\n",
      " [   0    0    0    0    0    0    0    0    0    0    0    0  420    0\n",
      "     0    0    0    0    0    0]\n",
      " [   0    0    0    0    0    0    0    0    0    0    0    0    0 1248\n",
      "     0    0    0    0    0    0]\n",
      " [   0    0    0    0    0    0    0    0    0    0    0    0    0    0\n",
      "   627    0    0    0    0    0]\n",
      " [   0    0    0    0    0    0    0    0    0    0    0    0    0    0\n",
      "     0 1006    0    0    0    0]\n",
      " [   0    0    0    0    0    0    0    0    0    0    0    0    0    0\n",
      "     0    0  230    0    0    0]\n",
      " [   0    0    0    0    0    0    0    0    0    0    0    0    0    0\n",
      "     0    0    0  313    0    0]\n",
      " [   0    0    0    0    0    0    0    0    0    0    0    0    0    0\n",
      "     0    0    0    0   60    0]\n",
      " [   0    0    0    0    0    0    0    0    0    0    0    0    0    0\n",
      "     0    0    0    0    0   45]]\n"
     ]
    }
   ],
   "source": [
    "#CLEANED CONFUSION MATRIX\n",
    "y_train_perfect_predictions = y_train\n",
    "\n",
    "confusionMatrix = confusion_matrix(y_train, y_train_perfect_predictions)\n",
    "print(confusionMatrix)"
   ]
  },
  {
   "cell_type": "code",
   "execution_count": 217,
   "metadata": {},
   "outputs": [
    {
     "ename": "NameError",
     "evalue": "name 'save_fig' is not defined",
     "output_type": "error",
     "traceback": [
      "\u001b[0;31m---------------------------------------------------------------------------\u001b[0m",
      "\u001b[0;31mNameError\u001b[0m                                 Traceback (most recent call last)",
      "\u001b[0;32m<ipython-input-217-bb0e96501e6a>\u001b[0m in \u001b[0;36m<module>\u001b[0;34m()\u001b[0m\n\u001b[1;32m      7\u001b[0m \u001b[0;34m\u001b[0m\u001b[0m\n\u001b[1;32m      8\u001b[0m \u001b[0mplt\u001b[0m\u001b[0;34m.\u001b[0m\u001b[0mmatshow\u001b[0m\u001b[0;34m(\u001b[0m\u001b[0mconfusionMatrix\u001b[0m\u001b[0;34m,\u001b[0m \u001b[0mcmap\u001b[0m\u001b[0;34m=\u001b[0m\u001b[0mplt\u001b[0m\u001b[0;34m.\u001b[0m\u001b[0mcm\u001b[0m\u001b[0;34m.\u001b[0m\u001b[0mgray\u001b[0m\u001b[0;34m)\u001b[0m\u001b[0;34m\u001b[0m\u001b[0m\n\u001b[0;32m----> 9\u001b[0;31m \u001b[0msave_fig\u001b[0m\u001b[0;34m(\u001b[0m\u001b[0;34m\"confusion_matrix_plot\"\u001b[0m\u001b[0;34m,\u001b[0m \u001b[0mtight_layout\u001b[0m\u001b[0;34m=\u001b[0m\u001b[0;32mFalse\u001b[0m\u001b[0;34m)\u001b[0m\u001b[0;34m\u001b[0m\u001b[0m\n\u001b[0m\u001b[1;32m     10\u001b[0m \u001b[0mplt\u001b[0m\u001b[0;34m.\u001b[0m\u001b[0mshow\u001b[0m\u001b[0;34m(\u001b[0m\u001b[0;34m)\u001b[0m\u001b[0;34m\u001b[0m\u001b[0m\n",
      "\u001b[0;31mNameError\u001b[0m: name 'save_fig' is not defined"
     ]
    },
    {
     "data": {
      "image/png": "[encoded data removed]",
      "text/plain": [
       "<Figure size 288x288 with 1 Axes>"
      ]
     },
     "metadata": {
      "needs_background": "light"
     },
     "output_type": "display_data"
    }
   ],
   "source": [
    "def plot_confusion_matrix(matrix):\n",
    "    \"\"\"If you prefer color and a colorbar\"\"\"\n",
    "    fig = plt.figure(figsize=(8,8))\n",
    "    ax = fig.add_subplot(111)\n",
    "    cax = ax.matshow(matrix)\n",
    "    fig.colorbar(cax)\n",
    "\n",
    "plt.matshow(confusionMatrix, cmap=plt.cm.gray)\n",
    "save_fig(\"confusion_matrix_plot\", tight_layout=False)\n",
    "plt.show()"
   ]
  }
 ],
 "metadata": {
  "kernelspec": {
   "display_name": "Python 3",
   "language": "python",
   "name": "python3"
  },
  "language_info": {
   "codemirror_mode": {
    "name": "ipython",
    "version": 3
   },
   "file_extension": ".py",
   "mimetype": "text/x-python",
   "name": "python",
   "nbconvert_exporter": "python",
   "pygments_lexer": "ipython3",
   "version": "3.7.0"
  }
 },
 "nbformat": 4,
 "nbformat_minor": 2
}
